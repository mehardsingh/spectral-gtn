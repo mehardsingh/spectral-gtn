{
 "cells": [
  {
   "cell_type": "code",
   "execution_count": 213,
   "metadata": {},
   "outputs": [],
   "source": [
    "import pandas as pd\n",
    "import numpy as np\n",
    "import os\n",
    "from tqdm import tqdm\n",
    "from torch.utils.data import Dataset"
   ]
  },
  {
   "cell_type": "code",
   "execution_count": 214,
   "metadata": {},
   "outputs": [],
   "source": [
    "def load_file(filepath):\n",
    "    df = pd.read_csv(filepath)\n",
    "\n",
    "    m1 = np.array(df[\"M1\"])\n",
    "    sma = np.array(df[\"SMA\"])\n",
    "    lpfc = np.array(df[\"lPFC\"])\n",
    "    rpfc = np.array(df[\"rPFC\"])\n",
    "\n",
    "    all_data = np.array([m1, sma, lpfc, rpfc]).T\n",
    "    epoch_data = np.reshape(all_data, (-1, 501, 4))\n",
    "\n",
    "    groups = np.array(df[\"GroupID\"])\n",
    "    groups = np.reshape(groups, (-1, 501))\n",
    "\n",
    "    labels = np.array(df[\"ML Label\"])\n",
    "    mapping_dict = {\"ROM\": 0, \"Speed\": 1}\n",
    "    labels = np.vectorize(mapping_dict.get)(labels)\n",
    "    labels = np.reshape(labels, (-1, 501))\n",
    "\n",
    "    return epoch_data, groups, labels"
   ]
  },
  {
   "cell_type": "code",
   "execution_count": 215,
   "metadata": {},
   "outputs": [],
   "source": [
    "def load_all(data_dir):\n",
    "    epoch_data = list()\n",
    "    groups = list()\n",
    "    labels = list()\n",
    "\n",
    "    for filepath in tqdm(os.listdir(data_dir), desc=\"Loading data\"):\n",
    "        f_epoch_data, f_groups, f_labels = load_file(os.path.join(data_dir, filepath))\n",
    "        \n",
    "        epoch_data.append(f_epoch_data)\n",
    "        groups.append(f_groups)\n",
    "        labels.append(f_labels)\n",
    "\n",
    "    epoch_data = np.concatenate(epoch_data, axis=0)\n",
    "    groups = np.concatenate(groups, axis=0)[:,0]\n",
    "    labels = np.concatenate(labels, axis=0)[:,0]\n",
    "\n",
    "    return epoch_data, groups, labels"
   ]
  },
  {
   "cell_type": "code",
   "execution_count": 216,
   "metadata": {},
   "outputs": [],
   "source": [
    "class EEGDataset(Dataset):\n",
    "    def __init__(self, data_dir=\"./data\"):\n",
    "        self.epoch_data, self.groups, self.labels = load_all(data_dir)\n",
    "    \n",
    "    def __len__(self):\n",
    "        return self.epoch_data.shape[0]\n",
    "    \n",
    "    def __getitem__(self, index):\n",
    "        epoch_data = self.epoch_data[index]\n",
    "        group = self.groups[index]\n",
    "        label = self.labels[index]\n",
    "        \n",
    "        return epoch_data, group, label"
   ]
  },
  {
   "cell_type": "code",
   "execution_count": 217,
   "metadata": {},
   "outputs": [
    {
     "name": "stderr",
     "output_type": "stream",
     "text": [
      "Loading data: 100%|██████████| 56/56 [00:36<00:00,  1.52it/s]\n"
     ]
    }
   ],
   "source": [
    "eeg_ds = EEGDataset()"
   ]
  },
  {
   "cell_type": "code",
   "execution_count": 218,
   "metadata": {},
   "outputs": [
    {
     "name": "stdout",
     "output_type": "stream",
     "text": [
      "(501, 4)\n",
      "216 HOA Extension Continuous\n",
      "0\n"
     ]
    }
   ],
   "source": [
    "epoch_data, group, label = eeg_ds[0]\n",
    "print(epoch_data.shape)\n",
    "print(group)\n",
    "print(label)"
   ]
  }
 ],
 "metadata": {
  "kernelspec": {
   "display_name": ".venv",
   "language": "python",
   "name": "python3"
  },
  "language_info": {
   "codemirror_mode": {
    "name": "ipython",
    "version": 3
   },
   "file_extension": ".py",
   "mimetype": "text/x-python",
   "name": "python",
   "nbconvert_exporter": "python",
   "pygments_lexer": "ipython3",
   "version": "3.9.12"
  },
  "orig_nbformat": 4
 },
 "nbformat": 4,
 "nbformat_minor": 2
}
