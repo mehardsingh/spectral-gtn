{
 "cells": [
  {
   "cell_type": "code",
   "execution_count": 1,
   "metadata": {},
   "outputs": [],
   "source": [
    "from transformer import Transformer\n",
    "import numpy as np\n",
    "import torch"
   ]
  },
  {
   "cell_type": "code",
   "execution_count": 2,
   "metadata": {},
   "outputs": [
    {
     "name": "stdout",
     "output_type": "stream",
     "text": [
      "Number of params: 1757580\n"
     ]
    }
   ],
   "source": [
    "model = Transformer(\n",
    "    d_model=128, # mha output size\n",
    "    d_input=100, # number of timesteps\n",
    "    d_channel=3, # number of channels\n",
    "    d_output=10, # number of classes\n",
    "    d_hidden=256, # linear (after mha) output size\n",
    "    q=128, # query size per head\n",
    "    v=128, # value size per head\n",
    "    h=3, # number of heads\n",
    "    N=3, # number of transformer encoders\n",
    "    device=\"cpu\",\n",
    "    dropout=0.3,\n",
    "    pe=False,\n",
    "    mask=False\n",
    ")\n",
    "\n",
    "model_parameters = filter(lambda p: p.requires_grad, model.parameters())\n",
    "params = sum([np.prod(p.size()) for p in model_parameters])\n",
    "print(f\"Number of params: {params}\")"
   ]
  },
  {
   "cell_type": "code",
   "execution_count": 3,
   "metadata": {},
   "outputs": [
    {
     "name": "stdout",
     "output_type": "stream",
     "text": [
      "encoding_1 torch.Size([64, 100, 128])\n",
      "encoding_2 torch.Size([64, 3, 128])\n",
      "after reshaping\n",
      "encoding_1 torch.Size([64, 12800])\n",
      "encoding_2 torch.Size([64, 384])\n",
      "gate torch.Size([64, 2])\n",
      "encoding torch.Size([64, 13184])\n",
      "output torch.Size([64, 10])\n"
     ]
    }
   ],
   "source": [
    "data = torch.rand(64, 100, 3)\n",
    "output, encoding, score_input, score_channel, input_to_gather, channel_to_gather, gate = model(x=data, stage=\"train\")"
   ]
  },
  {
   "cell_type": "code",
   "execution_count": null,
   "metadata": {},
   "outputs": [],
   "source": []
  }
 ],
 "metadata": {
  "kernelspec": {
   "display_name": ".venv",
   "language": "python",
   "name": "python3"
  },
  "language_info": {
   "codemirror_mode": {
    "name": "ipython",
    "version": 3
   },
   "file_extension": ".py",
   "mimetype": "text/x-python",
   "name": "python",
   "nbconvert_exporter": "python",
   "pygments_lexer": "ipython3",
   "version": "3.9.12"
  },
  "orig_nbformat": 4
 },
 "nbformat": 4,
 "nbformat_minor": 2
}
