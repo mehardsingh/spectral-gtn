{
 "cells": [
  {
   "cell_type": "code",
   "execution_count": 1,
   "metadata": {},
   "outputs": [],
   "source": [
    "from transformer import Transformer\n",
    "import numpy as np\n",
    "import torch"
   ]
  },
  {
   "cell_type": "code",
   "execution_count": 2,
   "metadata": {},
   "outputs": [
    {
     "name": "stdout",
     "output_type": "stream",
     "text": [
      "Number of params: 19M\n"
     ]
    }
   ],
   "source": [
    "model = Transformer(\n",
    "    d_model=512,\n",
    "    d_hidden=1024,\n",
    "    d_feature=6,\n",
    "    d_timestep=100,\n",
    "    q=8,\n",
    "    v=8,\n",
    "    h=8,\n",
    "    N=8,\n",
    "    class_num=10\n",
    ")\n",
    "\n",
    "model_parameters = filter(lambda p: p.requires_grad, model.parameters())\n",
    "params = sum([np.prod(p.size()) for p in model_parameters])\n",
    "print(f\"Number of params: {int(params//1e6)}M\")"
   ]
  },
  {
   "cell_type": "code",
   "execution_count": 3,
   "metadata": {},
   "outputs": [
    {
     "name": "stdout",
     "output_type": "stream",
     "text": [
      "x_timestep torch.Size([16, 100, 512])\n",
      "x_feature torch.Size([16, 6, 512])\n",
      "after encoder\n",
      "x_timestep torch.Size([16, 100, 512])\n",
      "x_feature torch.Size([16, 6, 512])\n",
      "after reshaping\n",
      "x_timestep torch.Size([16, 51200])\n",
      "x_feature torch.Size([16, 3072])\n",
      "cat torch.Size([16, 54272])\n",
      "gate torch.Size([16, 2])\n",
      "gate_out torch.Size([16, 54272])\n",
      "out torch.Size([16, 10])\n"
     ]
    }
   ],
   "source": [
    "data = torch.rand(16, 6, 100)\n",
    "out = model(x=data, stage=\"train\")"
   ]
  },
  {
   "cell_type": "code",
   "execution_count": null,
   "metadata": {},
   "outputs": [],
   "source": []
  }
 ],
 "metadata": {
  "kernelspec": {
   "display_name": ".venv",
   "language": "python",
   "name": "python3"
  },
  "language_info": {
   "codemirror_mode": {
    "name": "ipython",
    "version": 3
   },
   "file_extension": ".py",
   "mimetype": "text/x-python",
   "name": "python",
   "nbconvert_exporter": "python",
   "pygments_lexer": "ipython3",
   "version": "3.9.12"
  },
  "orig_nbformat": 4
 },
 "nbformat": 4,
 "nbformat_minor": 2
}
